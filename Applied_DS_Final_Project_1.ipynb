{
  "cells": [
    {
      "metadata": {},
      "cell_type": "markdown",
      "source": "# Final Project\nYear project was done: 2019  \nName: Marc-Henri Bleu-Laine  \nContact: bleulaine.marchenri@gmail.com"
    },
    {
      "metadata": {},
      "cell_type": "markdown",
      "source": "## Problem Statement and Background\n<img src=\"ATL.jpg\" title=\"Atlanta Skyline\" />"
    },
    {
      "metadata": {},
      "cell_type": "markdown",
      "source": "New businesses all face the same issue before they even start operating: finding the ideal location. In particular, opening a new African restaurant in the city of Atlanta, Georgia is not an easy task. There are several common questions that new restaurant/business owners ask themselves[[1]](http://alltopstartups.com/2018/03/15/the-importance-of-location-in-business)[[2]](https://www.thebalancesmb.com/choosing-restaurant-location-2888543):\n<ul>\n    <li>Does the success of your restaurant rely heavily on customer traffic?</li>\n    <li>Does the location of the restaurant bring visibility?</li>\n    <li>Are there already other restaurants proposing the same service in the neighborhood?</li>\n    <li>What are the owner's and the landloard's responsabilities? Does the location rent meet the business budget?</li>\n    <li>Is the location and the building safe? </li>\n    <li>etc...</li>\n</ul>\nThere is a strong African community in Atlanta as well as more and more people willing to try food from the continent. The potential market is large and it could help advance the culture that remains somewhat unknown.   \n  \nFor this work though the word \"African\" is used, it was chosen to be general as the work is meant to be a proof of concept. For an actual customer, it will be better to focus on actually what type of African restaurant is to be opened (i.e. Ivorian, Ethipian, etc...).  \n  \nThe work focuses on trying to help find the best location for a new African restaurant in the city of Atlantaa, GA. The ideal location has few international competitors (international restaurants are limited in a given neighborhood), but is still known for its restaurant and activities (top places are restaurants, and other venue catogires that attract lots of people regularly). This location also has low crime rate as well as a cheap rent.  \n  \nObviously, choosing the right neighborhoods gets complicated when taking into account all these parameters. Using clustering algorithms, it is possible to group neighborhoods by their similarities, which would help the restaurant owner find a list of potential neighborhoods in which the business will strive. "
    },
    {
      "metadata": {},
      "cell_type": "markdown",
      "source": "## Data Description\nData fusion of multiple datasets will be used for this project. The common information that will be used to join the data are the zipcodes and the neighboorhood names"
    },
    {
      "metadata": {},
      "cell_type": "markdown",
      "source": "#### Foursquare [[3]](https://foursquare.com)"
    },
    {
      "metadata": {},
      "cell_type": "markdown",
      "source": "The main source of data used will be FourSquare since it contains information about venues, their names, their location, and their categories. Using this source, the venues will be grouped by their types such that the each neighborhood can have a ranking of the venues' type from the most common to the least ones. "
    },
    {
      "metadata": {
        "trusted": false
      },
      "cell_type": "markdown",
      "source": "#### Zillow Rent Index [[4]](https://www.zillow.com/corp/About.htm)"
    },
    {
      "metadata": {},
      "cell_type": "markdown",
      "source": "Zillow is the leading real estate and rental marketplace dedicated to empowering consumers with data, inspiration and knowledge around the place they call home, and connecting them with the best local professionals who can help. Zillow Rent Index (ZRI) is used to track the monthly median rent in particular geographical regions.  \nThe data contains the monthly rent in dollar of the rent of single family, condominium, cooperative, and multifamily. The average median of year 2019 will be used. A snapshot of the dataset is presented below.  \nI will focus on the following counties in Georgia:\n<ul>\n    <li>Gwinnet County</li>\n    <li>Fulton County</li>\n    <li>Cobb County</li>\n    <li>Dekalb County</li>\n</ul>"
    },
    {
      "metadata": {
        "trusted": true
      },
      "cell_type": "code",
      "source": "import pandas as pd\nZRI = pd.read_csv(\"Zip_Zri_AllHomesPlusMultifamily.csv\", skipfooter=1, engine=\"python\")\nZRI[ZRI.State==\"GA\"].head()",
      "execution_count": 2,
      "outputs": [
        {
          "output_type": "execute_result",
          "execution_count": 2,
          "data": {
            "text/html": "<div>\n<table border=\"1\" class=\"dataframe\">\n  <thead>\n    <tr style=\"text-align: right;\">\n      <th></th>\n      <th>RegionID</th>\n      <th>RegionName</th>\n      <th>City</th>\n      <th>State</th>\n      <th>Metro</th>\n      <th>CountyName</th>\n      <th>SizeRank</th>\n      <th>2010-11</th>\n      <th>2010-12</th>\n      <th>2011-01</th>\n      <th>...</th>\n      <th>2018-08</th>\n      <th>2018-09</th>\n      <th>2018-10</th>\n      <th>2018-11</th>\n      <th>2018-12</th>\n      <th>2019-01</th>\n      <th>2019-02</th>\n      <th>2019-03</th>\n      <th>2019-04</th>\n      <th>2019-05</th>\n    </tr>\n  </thead>\n  <tbody>\n    <tr>\n      <th>31</th>\n      <td>71067</td>\n      <td>30349</td>\n      <td>Riverdale</td>\n      <td>GA</td>\n      <td>Atlanta-Sandy Springs-Roswell</td>\n      <td>Clayton County</td>\n      <td>32</td>\n      <td>1069.0</td>\n      <td>1058.0</td>\n      <td>1051.0</td>\n      <td>...</td>\n      <td>1149</td>\n      <td>1149</td>\n      <td>1152</td>\n      <td>1164</td>\n      <td>1179</td>\n      <td>1190</td>\n      <td>1195</td>\n      <td>1201</td>\n      <td>1208</td>\n      <td>1222</td>\n    </tr>\n    <tr>\n      <th>48</th>\n      <td>70829</td>\n      <td>30044</td>\n      <td>Lawrenceville</td>\n      <td>GA</td>\n      <td>Atlanta-Sandy Springs-Roswell</td>\n      <td>Gwinnett County</td>\n      <td>49</td>\n      <td>1106.0</td>\n      <td>1114.0</td>\n      <td>1120.0</td>\n      <td>...</td>\n      <td>1390</td>\n      <td>1390</td>\n      <td>1392</td>\n      <td>1398</td>\n      <td>1410</td>\n      <td>1422</td>\n      <td>1431</td>\n      <td>1436</td>\n      <td>1440</td>\n      <td>1443</td>\n    </tr>\n    <tr>\n      <th>52</th>\n      <td>70828</td>\n      <td>30043</td>\n      <td>Lawrenceville</td>\n      <td>GA</td>\n      <td>Atlanta-Sandy Springs-Roswell</td>\n      <td>Gwinnett County</td>\n      <td>53</td>\n      <td>1264.0</td>\n      <td>1270.0</td>\n      <td>1267.0</td>\n      <td>...</td>\n      <td>1498</td>\n      <td>1498</td>\n      <td>1502</td>\n      <td>1517</td>\n      <td>1534</td>\n      <td>1547</td>\n      <td>1551</td>\n      <td>1556</td>\n      <td>1562</td>\n      <td>1574</td>\n    </tr>\n    <tr>\n      <th>59</th>\n      <td>70874</td>\n      <td>30096</td>\n      <td>Duluth</td>\n      <td>GA</td>\n      <td>Atlanta-Sandy Springs-Roswell</td>\n      <td>Gwinnett County</td>\n      <td>60</td>\n      <td>1204.0</td>\n      <td>1207.0</td>\n      <td>1214.0</td>\n      <td>...</td>\n      <td>1446</td>\n      <td>1446</td>\n      <td>1451</td>\n      <td>1468</td>\n      <td>1490</td>\n      <td>1509</td>\n      <td>1517</td>\n      <td>1522</td>\n      <td>1527</td>\n      <td>1534</td>\n    </tr>\n    <tr>\n      <th>71</th>\n      <td>70810</td>\n      <td>30024</td>\n      <td>Suwanee</td>\n      <td>GA</td>\n      <td>Atlanta-Sandy Springs-Roswell</td>\n      <td>Gwinnett County</td>\n      <td>72</td>\n      <td>1598.0</td>\n      <td>1596.0</td>\n      <td>1591.0</td>\n      <td>...</td>\n      <td>1871</td>\n      <td>1870</td>\n      <td>1873</td>\n      <td>1880</td>\n      <td>1890</td>\n      <td>1900</td>\n      <td>1907</td>\n      <td>1914</td>\n      <td>1923</td>\n      <td>1941</td>\n    </tr>\n  </tbody>\n</table>\n<p>5 rows × 110 columns</p>\n</div>",
            "text/plain": "    RegionID  RegionName           City State                          Metro  \\\n31     71067       30349      Riverdale    GA  Atlanta-Sandy Springs-Roswell   \n48     70829       30044  Lawrenceville    GA  Atlanta-Sandy Springs-Roswell   \n52     70828       30043  Lawrenceville    GA  Atlanta-Sandy Springs-Roswell   \n59     70874       30096         Duluth    GA  Atlanta-Sandy Springs-Roswell   \n71     70810       30024        Suwanee    GA  Atlanta-Sandy Springs-Roswell   \n\n         CountyName  SizeRank  2010-11  2010-12  2011-01   ...     2018-08  \\\n31   Clayton County        32   1069.0   1058.0   1051.0   ...        1149   \n48  Gwinnett County        49   1106.0   1114.0   1120.0   ...        1390   \n52  Gwinnett County        53   1264.0   1270.0   1267.0   ...        1498   \n59  Gwinnett County        60   1204.0   1207.0   1214.0   ...        1446   \n71  Gwinnett County        72   1598.0   1596.0   1591.0   ...        1871   \n\n    2018-09  2018-10  2018-11  2018-12  2019-01  2019-02  2019-03  2019-04  \\\n31     1149     1152     1164     1179     1190     1195     1201     1208   \n48     1390     1392     1398     1410     1422     1431     1436     1440   \n52     1498     1502     1517     1534     1547     1551     1556     1562   \n59     1446     1451     1468     1490     1509     1517     1522     1527   \n71     1870     1873     1880     1890     1900     1907     1914     1923   \n\n    2019-05  \n31     1222  \n48     1443  \n52     1574  \n59     1534  \n71     1941  \n\n[5 rows x 110 columns]"
          },
          "metadata": {}
        }
      ]
    },
    {
      "metadata": {},
      "cell_type": "markdown",
      "source": "#### COBRA [[5]](http://www.atlantapd.org/i-want-to/crime-data-downloads)"
    },
    {
      "metadata": {},
      "cell_type": "markdown",
      "source": "COBRA is a dataset obtained from the Atlanta Police Department. It contains the number of crimes, their types, and their location in the greater Atlanta area."
    },
    {
      "metadata": {
        "trusted": true
      },
      "cell_type": "code",
      "source": "ATLCrime = pd.read_csv(\"COBRA-2019.csv\")\nATLCrime.head()",
      "execution_count": 5,
      "outputs": [
        {
          "output_type": "execute_result",
          "execution_count": 5,
          "data": {
            "text/html": "<div>\n<table border=\"1\" class=\"dataframe\">\n  <thead>\n    <tr style=\"text-align: right;\">\n      <th></th>\n      <th>Report Number</th>\n      <th>Report Date</th>\n      <th>Occur Date</th>\n      <th>Occur Time</th>\n      <th>Possible Date</th>\n      <th>Possible Time</th>\n      <th>Beat</th>\n      <th>Apartment Office Prefix</th>\n      <th>Apartment Number</th>\n      <th>Location</th>\n      <th>Shift Occurrence</th>\n      <th>Location Type</th>\n      <th>UCR Literal</th>\n      <th>UCR #</th>\n      <th>IBR Code</th>\n      <th>Neighborhood</th>\n      <th>NPU</th>\n      <th>Latitude</th>\n      <th>Longitude</th>\n    </tr>\n  </thead>\n  <tbody>\n    <tr>\n      <th>0</th>\n      <td>190010138</td>\n      <td>2019-01-01</td>\n      <td>2019-01-01</td>\n      <td>0020</td>\n      <td>2019-01-01</td>\n      <td>25</td>\n      <td>511.0</td>\n      <td>NaN</td>\n      <td>NaN</td>\n      <td>50 UPPER ALABAMA ST SW</td>\n      <td>Morning Watch</td>\n      <td>13</td>\n      <td>LARCENY-NON VEHICLE</td>\n      <td>620</td>\n      <td>2302</td>\n      <td>Downtown</td>\n      <td>M</td>\n      <td>33.75194</td>\n      <td>-84.38964</td>\n    </tr>\n    <tr>\n      <th>1</th>\n      <td>190010299</td>\n      <td>2019-01-01</td>\n      <td>2019-01-01</td>\n      <td>0120</td>\n      <td>2019-01-01</td>\n      <td>130</td>\n      <td>511.0</td>\n      <td>NaN</td>\n      <td>NaN</td>\n      <td>20 BROAD ST</td>\n      <td>Morning Watch</td>\n      <td>NaN</td>\n      <td>LARCENY-NON VEHICLE</td>\n      <td>620</td>\n      <td>2302</td>\n      <td>Downtown</td>\n      <td>M</td>\n      <td>33.75312</td>\n      <td>-84.39208</td>\n    </tr>\n    <tr>\n      <th>2</th>\n      <td>190011858</td>\n      <td>2019-01-01</td>\n      <td>2019-01-01</td>\n      <td>1740</td>\n      <td>2019-01-01</td>\n      <td>1750</td>\n      <td>411.0</td>\n      <td>NaN</td>\n      <td>A15</td>\n      <td>3000 CONTINENTAL COLONY PKWY SW</td>\n      <td>Evening Watch</td>\n      <td>26</td>\n      <td>LARCENY-NON VEHICLE</td>\n      <td>620</td>\n      <td>2302</td>\n      <td>Greenbriar</td>\n      <td>R</td>\n      <td>33.68077</td>\n      <td>-84.49370</td>\n    </tr>\n    <tr>\n      <th>3</th>\n      <td>190010845</td>\n      <td>2019-01-01</td>\n      <td>2019-01-01</td>\n      <td>0415</td>\n      <td>2019-01-01</td>\n      <td>420</td>\n      <td>607.0</td>\n      <td>NaN</td>\n      <td>NaN</td>\n      <td>1362 BOULEVARD SE</td>\n      <td>Morning Watch</td>\n      <td>23</td>\n      <td>LARCENY-NON VEHICLE</td>\n      <td>630</td>\n      <td>2303</td>\n      <td>Benteen Park</td>\n      <td>W</td>\n      <td>33.71744</td>\n      <td>-84.36818</td>\n    </tr>\n    <tr>\n      <th>4</th>\n      <td>190011541</td>\n      <td>2019-01-01</td>\n      <td>2019-01-01</td>\n      <td>1400</td>\n      <td>2019-01-01</td>\n      <td>1430</td>\n      <td>210.0</td>\n      <td>NaN</td>\n      <td>NaN</td>\n      <td>3393 PEACHTREE RD NE @LENOX MALL</td>\n      <td>Evening Watch</td>\n      <td>8</td>\n      <td>LARCENY-NON VEHICLE</td>\n      <td>630</td>\n      <td>2303</td>\n      <td>Lenox</td>\n      <td>B</td>\n      <td>33.84676</td>\n      <td>-84.36212</td>\n    </tr>\n  </tbody>\n</table>\n</div>",
            "text/plain": "   Report Number Report Date  Occur Date Occur Time Possible Date  \\\n0      190010138  2019-01-01  2019-01-01       0020    2019-01-01   \n1      190010299  2019-01-01  2019-01-01       0120    2019-01-01   \n2      190011858  2019-01-01  2019-01-01       1740    2019-01-01   \n3      190010845  2019-01-01  2019-01-01       0415    2019-01-01   \n4      190011541  2019-01-01  2019-01-01       1400    2019-01-01   \n\n   Possible Time   Beat Apartment Office Prefix Apartment Number  \\\n0             25  511.0                     NaN              NaN   \n1            130  511.0                     NaN              NaN   \n2           1750  411.0                     NaN              A15   \n3            420  607.0                     NaN              NaN   \n4           1430  210.0                     NaN              NaN   \n\n                           Location Shift Occurrence Location Type  \\\n0            50 UPPER ALABAMA ST SW    Morning Watch            13   \n1                       20 BROAD ST    Morning Watch           NaN   \n2   3000 CONTINENTAL COLONY PKWY SW    Evening Watch            26   \n3                 1362 BOULEVARD SE    Morning Watch            23   \n4  3393 PEACHTREE RD NE @LENOX MALL    Evening Watch             8   \n\n           UCR Literal  UCR # IBR Code  Neighborhood NPU  Latitude  Longitude  \n0  LARCENY-NON VEHICLE    620     2302      Downtown   M  33.75194  -84.38964  \n1  LARCENY-NON VEHICLE    620     2302      Downtown   M  33.75312  -84.39208  \n2  LARCENY-NON VEHICLE    620     2302    Greenbriar   R  33.68077  -84.49370  \n3  LARCENY-NON VEHICLE    630     2303  Benteen Park   W  33.71744  -84.36818  \n4  LARCENY-NON VEHICLE    630     2303         Lenox   B  33.84676  -84.36212  "
          },
          "metadata": {}
        }
      ]
    },
    {
      "metadata": {
        "trusted": true
      },
      "cell_type": "code",
      "source": "",
      "execution_count": null,
      "outputs": []
    }
  ],
  "metadata": {
    "kernelspec": {
      "name": "python3",
      "display_name": "Python 3",
      "language": "python"
    },
    "language_info": {
      "mimetype": "text/x-python",
      "nbconvert_exporter": "python",
      "name": "python",
      "pygments_lexer": "ipython3",
      "version": "3.5.4",
      "file_extension": ".py",
      "codemirror_mode": {
        "version": 3,
        "name": "ipython"
      }
    }
  },
  "nbformat": 4,
  "nbformat_minor": 2
}